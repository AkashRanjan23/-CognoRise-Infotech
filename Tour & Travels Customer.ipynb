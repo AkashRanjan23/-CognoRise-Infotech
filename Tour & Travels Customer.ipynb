{
 "cells": [
  {
   "cell_type": "markdown",
   "id": "24d64738",
   "metadata": {},
   "source": [
    "### Name: **Akash Ranjan**\n",
    "### Project: **Tour & Travels Customer Churn Prediction**\n",
    "### Internship Type: **Data Analytics**"
   ]
  },
  {
   "cell_type": "markdown",
   "id": "0bbda118",
   "metadata": {},
   "source": [
    "# About Dataset\n",
    "\n",
    "**A Tour & Travels Company Wants To Predict Whether A Customer Will Churn Or Not Based On Indicators Given Below.\n",
    "Help Build Predictive Models And Save The Company's Money.\n",
    "Perform Fascinating EDAs.**"
   ]
  },
  {
   "cell_type": "markdown",
   "id": "a842b7d3",
   "metadata": {
    "papermill": {
     "duration": 0.015486,
     "end_time": "2023-08-26T06:08:37.852581",
     "exception": false,
     "start_time": "2023-08-26T06:08:37.837095",
     "status": "completed"
    },
    "tags": []
   },
   "source": [
    "# Research Questions\n",
    "1. How Hotel Booking and Annual Income effect customer churn?\n",
    "2. How can we prevent customer churn?\n"
   ]
  },
  {
   "cell_type": "code",
   "execution_count": 1,
   "id": "643ac350",
   "metadata": {
    "execution": {
     "iopub.execute_input": "2023-08-26T06:08:37.921818Z",
     "iopub.status.busy": "2023-08-26T06:08:37.921124Z",
     "iopub.status.idle": "2023-08-26T06:08:39.794332Z",
     "shell.execute_reply": "2023-08-26T06:08:39.792866Z"
    },
    "papermill": {
     "duration": 1.895443,
     "end_time": "2023-08-26T06:08:39.797347",
     "exception": false,
     "start_time": "2023-08-26T06:08:37.901904",
     "status": "completed"
    },
    "tags": []
   },
   "outputs": [],
   "source": [
    "import pandas as pd\n",
    "import matplotlib.pyplot as plt\n",
    "import seaborn as sns\n",
    "import warnings\n",
    "warnings.filterwarnings('ignore')"
   ]
  },
  {
   "cell_type": "code",
   "execution_count": 3,
   "id": "9f181574",
   "metadata": {
    "execution": {
     "iopub.execute_input": "2023-08-26T06:08:39.864153Z",
     "iopub.status.busy": "2023-08-26T06:08:39.863490Z",
     "iopub.status.idle": "2023-08-26T06:08:39.894119Z",
     "shell.execute_reply": "2023-08-26T06:08:39.892995Z"
    },
    "papermill": {
     "duration": 0.051776,
     "end_time": "2023-08-26T06:08:39.897101",
     "exception": false,
     "start_time": "2023-08-26T06:08:39.845325",
     "status": "completed"
    },
    "tags": []
   },
   "outputs": [],
   "source": [
    "Tour_dataset = pd.read_csv(r\"C:\\Users\\akash\\OneDrive\\Desktop\\Intership\\CognoRise InfoTech 10-04-24\\Tour & Travels Customer\\Customertravel.csv\")"
   ]
  },
  {
   "cell_type": "code",
   "execution_count": 4,
   "id": "b92155a0",
   "metadata": {
    "execution": {
     "iopub.execute_input": "2023-08-26T06:08:39.964927Z",
     "iopub.status.busy": "2023-08-26T06:08:39.964430Z",
     "iopub.status.idle": "2023-08-26T06:08:39.999826Z",
     "shell.execute_reply": "2023-08-26T06:08:39.998642Z"
    },
    "papermill": {
     "duration": 0.057171,
     "end_time": "2023-08-26T06:08:40.002940",
     "exception": false,
     "start_time": "2023-08-26T06:08:39.945769",
     "status": "completed"
    },
    "tags": []
   },
   "outputs": [
    {
     "data": {
      "text/html": [
       "<div>\n",
       "<style scoped>\n",
       "    .dataframe tbody tr th:only-of-type {\n",
       "        vertical-align: middle;\n",
       "    }\n",
       "\n",
       "    .dataframe tbody tr th {\n",
       "        vertical-align: top;\n",
       "    }\n",
       "\n",
       "    .dataframe thead th {\n",
       "        text-align: right;\n",
       "    }\n",
       "</style>\n",
       "<table border=\"1\" class=\"dataframe\">\n",
       "  <thead>\n",
       "    <tr style=\"text-align: right;\">\n",
       "      <th></th>\n",
       "      <th>Age</th>\n",
       "      <th>FrequentFlyer</th>\n",
       "      <th>AnnualIncomeClass</th>\n",
       "      <th>ServicesOpted</th>\n",
       "      <th>AccountSyncedToSocialMedia</th>\n",
       "      <th>BookedHotelOrNot</th>\n",
       "      <th>Target</th>\n",
       "    </tr>\n",
       "  </thead>\n",
       "  <tbody>\n",
       "    <tr>\n",
       "      <th>0</th>\n",
       "      <td>34</td>\n",
       "      <td>No</td>\n",
       "      <td>Middle Income</td>\n",
       "      <td>6</td>\n",
       "      <td>No</td>\n",
       "      <td>Yes</td>\n",
       "      <td>0</td>\n",
       "    </tr>\n",
       "    <tr>\n",
       "      <th>1</th>\n",
       "      <td>34</td>\n",
       "      <td>Yes</td>\n",
       "      <td>Low Income</td>\n",
       "      <td>5</td>\n",
       "      <td>Yes</td>\n",
       "      <td>No</td>\n",
       "      <td>1</td>\n",
       "    </tr>\n",
       "    <tr>\n",
       "      <th>2</th>\n",
       "      <td>37</td>\n",
       "      <td>No</td>\n",
       "      <td>Middle Income</td>\n",
       "      <td>3</td>\n",
       "      <td>Yes</td>\n",
       "      <td>No</td>\n",
       "      <td>0</td>\n",
       "    </tr>\n",
       "    <tr>\n",
       "      <th>3</th>\n",
       "      <td>30</td>\n",
       "      <td>No</td>\n",
       "      <td>Middle Income</td>\n",
       "      <td>2</td>\n",
       "      <td>No</td>\n",
       "      <td>No</td>\n",
       "      <td>0</td>\n",
       "    </tr>\n",
       "    <tr>\n",
       "      <th>4</th>\n",
       "      <td>30</td>\n",
       "      <td>No</td>\n",
       "      <td>Low Income</td>\n",
       "      <td>1</td>\n",
       "      <td>No</td>\n",
       "      <td>No</td>\n",
       "      <td>0</td>\n",
       "    </tr>\n",
       "  </tbody>\n",
       "</table>\n",
       "</div>"
      ],
      "text/plain": [
       "   Age FrequentFlyer AnnualIncomeClass  ServicesOpted  \\\n",
       "0   34            No     Middle Income              6   \n",
       "1   34           Yes        Low Income              5   \n",
       "2   37            No     Middle Income              3   \n",
       "3   30            No     Middle Income              2   \n",
       "4   30            No        Low Income              1   \n",
       "\n",
       "  AccountSyncedToSocialMedia BookedHotelOrNot  Target  \n",
       "0                         No              Yes       0  \n",
       "1                        Yes               No       1  \n",
       "2                        Yes               No       0  \n",
       "3                         No               No       0  \n",
       "4                         No               No       0  "
      ]
     },
     "execution_count": 4,
     "metadata": {},
     "output_type": "execute_result"
    }
   ],
   "source": [
    "Tour_dataset.head()"
   ]
  },
  {
   "cell_type": "code",
   "execution_count": 5,
   "id": "63621044",
   "metadata": {
    "execution": {
     "iopub.execute_input": "2023-08-26T06:08:40.038076Z",
     "iopub.status.busy": "2023-08-26T06:08:40.036892Z",
     "iopub.status.idle": "2023-08-26T06:08:40.051494Z",
     "shell.execute_reply": "2023-08-26T06:08:40.050622Z"
    },
    "papermill": {
     "duration": 0.034916,
     "end_time": "2023-08-26T06:08:40.054067",
     "exception": false,
     "start_time": "2023-08-26T06:08:40.019151",
     "status": "completed"
    },
    "tags": []
   },
   "outputs": [
    {
     "data": {
      "text/html": [
       "<div>\n",
       "<style scoped>\n",
       "    .dataframe tbody tr th:only-of-type {\n",
       "        vertical-align: middle;\n",
       "    }\n",
       "\n",
       "    .dataframe tbody tr th {\n",
       "        vertical-align: top;\n",
       "    }\n",
       "\n",
       "    .dataframe thead th {\n",
       "        text-align: right;\n",
       "    }\n",
       "</style>\n",
       "<table border=\"1\" class=\"dataframe\">\n",
       "  <thead>\n",
       "    <tr style=\"text-align: right;\">\n",
       "      <th></th>\n",
       "      <th>Age</th>\n",
       "      <th>FrequentFlyer</th>\n",
       "      <th>AnnualIncomeClass</th>\n",
       "      <th>ServicesOpted</th>\n",
       "      <th>AccountSyncedToSocialMedia</th>\n",
       "      <th>BookedHotelOrNot</th>\n",
       "      <th>Target</th>\n",
       "    </tr>\n",
       "  </thead>\n",
       "  <tbody>\n",
       "    <tr>\n",
       "      <th>949</th>\n",
       "      <td>31</td>\n",
       "      <td>Yes</td>\n",
       "      <td>Low Income</td>\n",
       "      <td>1</td>\n",
       "      <td>No</td>\n",
       "      <td>No</td>\n",
       "      <td>0</td>\n",
       "    </tr>\n",
       "    <tr>\n",
       "      <th>950</th>\n",
       "      <td>30</td>\n",
       "      <td>No</td>\n",
       "      <td>Middle Income</td>\n",
       "      <td>5</td>\n",
       "      <td>No</td>\n",
       "      <td>Yes</td>\n",
       "      <td>0</td>\n",
       "    </tr>\n",
       "    <tr>\n",
       "      <th>951</th>\n",
       "      <td>37</td>\n",
       "      <td>No</td>\n",
       "      <td>Middle Income</td>\n",
       "      <td>4</td>\n",
       "      <td>No</td>\n",
       "      <td>No</td>\n",
       "      <td>0</td>\n",
       "    </tr>\n",
       "    <tr>\n",
       "      <th>952</th>\n",
       "      <td>30</td>\n",
       "      <td>No</td>\n",
       "      <td>Low Income</td>\n",
       "      <td>1</td>\n",
       "      <td>Yes</td>\n",
       "      <td>Yes</td>\n",
       "      <td>0</td>\n",
       "    </tr>\n",
       "    <tr>\n",
       "      <th>953</th>\n",
       "      <td>31</td>\n",
       "      <td>Yes</td>\n",
       "      <td>High Income</td>\n",
       "      <td>1</td>\n",
       "      <td>No</td>\n",
       "      <td>No</td>\n",
       "      <td>0</td>\n",
       "    </tr>\n",
       "  </tbody>\n",
       "</table>\n",
       "</div>"
      ],
      "text/plain": [
       "     Age FrequentFlyer AnnualIncomeClass  ServicesOpted  \\\n",
       "949   31           Yes        Low Income              1   \n",
       "950   30            No     Middle Income              5   \n",
       "951   37            No     Middle Income              4   \n",
       "952   30            No        Low Income              1   \n",
       "953   31           Yes       High Income              1   \n",
       "\n",
       "    AccountSyncedToSocialMedia BookedHotelOrNot  Target  \n",
       "949                         No               No       0  \n",
       "950                         No              Yes       0  \n",
       "951                         No               No       0  \n",
       "952                        Yes              Yes       0  \n",
       "953                         No               No       0  "
      ]
     },
     "execution_count": 5,
     "metadata": {},
     "output_type": "execute_result"
    }
   ],
   "source": [
    "Tour_dataset.tail()"
   ]
  },
  {
   "cell_type": "code",
   "execution_count": 7,
   "id": "90b3c57e",
   "metadata": {},
   "outputs": [
    {
     "name": "stdout",
     "output_type": "stream",
     "text": [
      "Total number of Rows in the DataSet is: 954\n",
      "Total number of Columns in the DataSet is: 7\n"
     ]
    }
   ],
   "source": [
    "shape=Tour_dataset.shape\n",
    "print(f\"Total number of Rows in the DataSet is: {shape[0]}\\nTotal number of Columns in the DataSet is: {shape[1]}\")"
   ]
  },
  {
   "cell_type": "markdown",
   "id": "eee9010c",
   "metadata": {
    "papermill": {
     "duration": 0.016969,
     "end_time": "2023-08-26T06:08:40.196630",
     "exception": false,
     "start_time": "2023-08-26T06:08:40.179661",
     "status": "completed"
    },
    "tags": []
   },
   "source": [
    "### Duplicates Checking\n"
   ]
  },
  {
   "cell_type": "code",
   "execution_count": 8,
   "id": "ba16032f",
   "metadata": {
    "execution": {
     "iopub.execute_input": "2023-08-26T06:08:40.232471Z",
     "iopub.status.busy": "2023-08-26T06:08:40.231994Z",
     "iopub.status.idle": "2023-08-26T06:08:40.246317Z",
     "shell.execute_reply": "2023-08-26T06:08:40.244935Z"
    },
    "papermill": {
     "duration": 0.035178,
     "end_time": "2023-08-26T06:08:40.248805",
     "exception": false,
     "start_time": "2023-08-26T06:08:40.213627",
     "status": "completed"
    },
    "tags": []
   },
   "outputs": [
    {
     "name": "stdout",
     "output_type": "stream",
     "text": [
      "507\n"
     ]
    }
   ],
   "source": [
    "Tour_dataset.isnull().values.any()\n",
    "value = len(Tour_dataset[Tour_dataset.duplicated()])\n",
    "print(value)"
   ]
  },
  {
   "cell_type": "markdown",
   "id": "3221733b",
   "metadata": {
    "papermill": {
     "duration": 0.017365,
     "end_time": "2023-08-26T06:08:40.283548",
     "exception": false,
     "start_time": "2023-08-26T06:08:40.266183",
     "status": "completed"
    },
    "tags": []
   },
   "source": [
    "### Statistical Summary"
   ]
  },
  {
   "cell_type": "code",
   "execution_count": 9,
   "id": "cec3e509",
   "metadata": {
    "execution": {
     "iopub.execute_input": "2023-08-26T06:08:40.322581Z",
     "iopub.status.busy": "2023-08-26T06:08:40.321786Z",
     "iopub.status.idle": "2023-08-26T06:08:40.352963Z",
     "shell.execute_reply": "2023-08-26T06:08:40.351524Z"
    },
    "papermill": {
     "duration": 0.053029,
     "end_time": "2023-08-26T06:08:40.355702",
     "exception": false,
     "start_time": "2023-08-26T06:08:40.302673",
     "status": "completed"
    },
    "tags": []
   },
   "outputs": [
    {
     "name": "stdout",
     "output_type": "stream",
     "text": [
      "Statistical Summary\n"
     ]
    },
    {
     "data": {
      "text/html": [
       "<div>\n",
       "<style scoped>\n",
       "    .dataframe tbody tr th:only-of-type {\n",
       "        vertical-align: middle;\n",
       "    }\n",
       "\n",
       "    .dataframe tbody tr th {\n",
       "        vertical-align: top;\n",
       "    }\n",
       "\n",
       "    .dataframe thead th {\n",
       "        text-align: right;\n",
       "    }\n",
       "</style>\n",
       "<table border=\"1\" class=\"dataframe\">\n",
       "  <thead>\n",
       "    <tr style=\"text-align: right;\">\n",
       "      <th></th>\n",
       "      <th>count</th>\n",
       "      <th>mean</th>\n",
       "      <th>std</th>\n",
       "      <th>min</th>\n",
       "      <th>25%</th>\n",
       "      <th>50%</th>\n",
       "      <th>75%</th>\n",
       "      <th>max</th>\n",
       "    </tr>\n",
       "  </thead>\n",
       "  <tbody>\n",
       "    <tr>\n",
       "      <th>Age</th>\n",
       "      <td>954.0</td>\n",
       "      <td>32.109015</td>\n",
       "      <td>3.337388</td>\n",
       "      <td>27.0</td>\n",
       "      <td>30.0</td>\n",
       "      <td>31.0</td>\n",
       "      <td>35.0</td>\n",
       "      <td>38.0</td>\n",
       "    </tr>\n",
       "    <tr>\n",
       "      <th>ServicesOpted</th>\n",
       "      <td>954.0</td>\n",
       "      <td>2.437107</td>\n",
       "      <td>1.606233</td>\n",
       "      <td>1.0</td>\n",
       "      <td>1.0</td>\n",
       "      <td>2.0</td>\n",
       "      <td>4.0</td>\n",
       "      <td>6.0</td>\n",
       "    </tr>\n",
       "    <tr>\n",
       "      <th>Target</th>\n",
       "      <td>954.0</td>\n",
       "      <td>0.234801</td>\n",
       "      <td>0.424097</td>\n",
       "      <td>0.0</td>\n",
       "      <td>0.0</td>\n",
       "      <td>0.0</td>\n",
       "      <td>0.0</td>\n",
       "      <td>1.0</td>\n",
       "    </tr>\n",
       "  </tbody>\n",
       "</table>\n",
       "</div>"
      ],
      "text/plain": [
       "               count       mean       std   min   25%   50%   75%   max\n",
       "Age            954.0  32.109015  3.337388  27.0  30.0  31.0  35.0  38.0\n",
       "ServicesOpted  954.0   2.437107  1.606233   1.0   1.0   2.0   4.0   6.0\n",
       "Target         954.0   0.234801  0.424097   0.0   0.0   0.0   0.0   1.0"
      ]
     },
     "execution_count": 9,
     "metadata": {},
     "output_type": "execute_result"
    }
   ],
   "source": [
    "print(\"Statistical Summary\")\n",
    "Tour_dataset.describe().T"
   ]
  },
  {
   "cell_type": "code",
   "execution_count": 10,
   "id": "c2bdcab3",
   "metadata": {
    "execution": {
     "iopub.execute_input": "2023-08-26T06:08:40.392561Z",
     "iopub.status.busy": "2023-08-26T06:08:40.392084Z",
     "iopub.status.idle": "2023-08-26T06:08:40.412974Z",
     "shell.execute_reply": "2023-08-26T06:08:40.411686Z"
    },
    "papermill": {
     "duration": 0.042435,
     "end_time": "2023-08-26T06:08:40.415582",
     "exception": false,
     "start_time": "2023-08-26T06:08:40.373147",
     "status": "completed"
    },
    "tags": []
   },
   "outputs": [
    {
     "data": {
      "text/html": [
       "<div>\n",
       "<style scoped>\n",
       "    .dataframe tbody tr th:only-of-type {\n",
       "        vertical-align: middle;\n",
       "    }\n",
       "\n",
       "    .dataframe tbody tr th {\n",
       "        vertical-align: top;\n",
       "    }\n",
       "\n",
       "    .dataframe thead th {\n",
       "        text-align: right;\n",
       "    }\n",
       "</style>\n",
       "<table border=\"1\" class=\"dataframe\">\n",
       "  <thead>\n",
       "    <tr style=\"text-align: right;\">\n",
       "      <th></th>\n",
       "      <th>FrequentFlyer</th>\n",
       "      <th>AnnualIncomeClass</th>\n",
       "      <th>AccountSyncedToSocialMedia</th>\n",
       "      <th>BookedHotelOrNot</th>\n",
       "    </tr>\n",
       "  </thead>\n",
       "  <tbody>\n",
       "    <tr>\n",
       "      <th>count</th>\n",
       "      <td>954</td>\n",
       "      <td>954</td>\n",
       "      <td>954</td>\n",
       "      <td>954</td>\n",
       "    </tr>\n",
       "    <tr>\n",
       "      <th>unique</th>\n",
       "      <td>3</td>\n",
       "      <td>3</td>\n",
       "      <td>2</td>\n",
       "      <td>2</td>\n",
       "    </tr>\n",
       "    <tr>\n",
       "      <th>top</th>\n",
       "      <td>No</td>\n",
       "      <td>Middle Income</td>\n",
       "      <td>No</td>\n",
       "      <td>No</td>\n",
       "    </tr>\n",
       "    <tr>\n",
       "      <th>freq</th>\n",
       "      <td>608</td>\n",
       "      <td>409</td>\n",
       "      <td>594</td>\n",
       "      <td>576</td>\n",
       "    </tr>\n",
       "  </tbody>\n",
       "</table>\n",
       "</div>"
      ],
      "text/plain": [
       "       FrequentFlyer AnnualIncomeClass AccountSyncedToSocialMedia  \\\n",
       "count            954               954                        954   \n",
       "unique             3                 3                          2   \n",
       "top               No     Middle Income                         No   \n",
       "freq             608               409                        594   \n",
       "\n",
       "       BookedHotelOrNot  \n",
       "count               954  \n",
       "unique                2  \n",
       "top                  No  \n",
       "freq                576  "
      ]
     },
     "execution_count": 10,
     "metadata": {},
     "output_type": "execute_result"
    }
   ],
   "source": [
    "Tour_dataset.describe(include = 'object')"
   ]
  },
  {
   "cell_type": "code",
   "execution_count": 11,
   "id": "354c458f",
   "metadata": {
    "execution": {
     "iopub.execute_input": "2023-08-26T06:08:40.454208Z",
     "iopub.status.busy": "2023-08-26T06:08:40.453291Z",
     "iopub.status.idle": "2023-08-26T06:08:40.469901Z",
     "shell.execute_reply": "2023-08-26T06:08:40.468947Z"
    },
    "papermill": {
     "duration": 0.039273,
     "end_time": "2023-08-26T06:08:40.472343",
     "exception": false,
     "start_time": "2023-08-26T06:08:40.433070",
     "status": "completed"
    },
    "tags": []
   },
   "outputs": [
    {
     "name": "stdout",
     "output_type": "stream",
     "text": [
      "FrequentFlyer\n",
      "['No' 'Yes' 'No Record']\n",
      "--------------------------------------------------\n",
      "AnnualIncomeClass\n",
      "['Middle Income' 'Low Income' 'High Income']\n",
      "--------------------------------------------------\n",
      "AccountSyncedToSocialMedia\n",
      "['No' 'Yes']\n",
      "--------------------------------------------------\n",
      "BookedHotelOrNot\n",
      "['Yes' 'No']\n",
      "--------------------------------------------------\n"
     ]
    }
   ],
   "source": [
    "for col in Tour_dataset.describe(include = 'object') .columns:\n",
    "    print(col)\n",
    "    print(Tour_dataset[col].unique())\n",
    "    print('-'*50)"
   ]
  },
  {
   "cell_type": "code",
   "execution_count": 14,
   "id": "d6993dad",
   "metadata": {
    "execution": {
     "iopub.execute_input": "2023-08-26T06:08:40.511058Z",
     "iopub.status.busy": "2023-08-26T06:08:40.510293Z",
     "iopub.status.idle": "2023-08-26T06:08:40.524813Z",
     "shell.execute_reply": "2023-08-26T06:08:40.523550Z"
    },
    "papermill": {
     "duration": 0.037404,
     "end_time": "2023-08-26T06:08:40.527519",
     "exception": false,
     "start_time": "2023-08-26T06:08:40.490115",
     "status": "completed"
    },
    "tags": []
   },
   "outputs": [
    {
     "data": {
      "text/html": [
       "<div>\n",
       "<style scoped>\n",
       "    .dataframe tbody tr th:only-of-type {\n",
       "        vertical-align: middle;\n",
       "    }\n",
       "\n",
       "    .dataframe tbody tr th {\n",
       "        vertical-align: top;\n",
       "    }\n",
       "\n",
       "    .dataframe thead th {\n",
       "        text-align: right;\n",
       "    }\n",
       "</style>\n",
       "<table border=\"1\" class=\"dataframe\">\n",
       "  <thead>\n",
       "    <tr style=\"text-align: right;\">\n",
       "      <th></th>\n",
       "      <th>Age</th>\n",
       "      <th>ServicesOpted</th>\n",
       "      <th>Target</th>\n",
       "    </tr>\n",
       "  </thead>\n",
       "  <tbody>\n",
       "    <tr>\n",
       "      <th>Age</th>\n",
       "      <td>1.000000</td>\n",
       "      <td>-0.012422</td>\n",
       "      <td>-0.131534</td>\n",
       "    </tr>\n",
       "    <tr>\n",
       "      <th>ServicesOpted</th>\n",
       "      <td>-0.012422</td>\n",
       "      <td>1.000000</td>\n",
       "      <td>0.038646</td>\n",
       "    </tr>\n",
       "    <tr>\n",
       "      <th>Target</th>\n",
       "      <td>-0.131534</td>\n",
       "      <td>0.038646</td>\n",
       "      <td>1.000000</td>\n",
       "    </tr>\n",
       "  </tbody>\n",
       "</table>\n",
       "</div>"
      ],
      "text/plain": [
       "                    Age  ServicesOpted    Target\n",
       "Age            1.000000      -0.012422 -0.131534\n",
       "ServicesOpted -0.012422       1.000000  0.038646\n",
       "Target        -0.131534       0.038646  1.000000"
      ]
     },
     "execution_count": 14,
     "metadata": {},
     "output_type": "execute_result"
    }
   ],
   "source": [
    "Tour_dataset[['Age', 'ServicesOpted', 'Target']].corr()"
   ]
  },
  {
   "cell_type": "code",
   "execution_count": 15,
   "id": "9a3457fa",
   "metadata": {
    "execution": {
     "iopub.execute_input": "2023-08-26T06:08:40.566953Z",
     "iopub.status.busy": "2023-08-26T06:08:40.565710Z",
     "iopub.status.idle": "2023-08-26T06:08:40.578233Z",
     "shell.execute_reply": "2023-08-26T06:08:40.576885Z"
    },
    "papermill": {
     "duration": 0.03566,
     "end_time": "2023-08-26T06:08:40.581443",
     "exception": false,
     "start_time": "2023-08-26T06:08:40.545783",
     "status": "completed"
    },
    "tags": []
   },
   "outputs": [
    {
     "data": {
      "text/plain": [
       "Age                           0\n",
       "FrequentFlyer                 0\n",
       "AnnualIncomeClass             0\n",
       "ServicesOpted                 0\n",
       "AccountSyncedToSocialMedia    0\n",
       "BookedHotelOrNot              0\n",
       "Target                        0\n",
       "dtype: int64"
      ]
     },
     "execution_count": 15,
     "metadata": {},
     "output_type": "execute_result"
    }
   ],
   "source": [
    "Tour_dataset.isnull().sum()"
   ]
  },
  {
   "cell_type": "markdown",
   "id": "a765d2d1",
   "metadata": {
    "papermill": {
     "duration": 0.018993,
     "end_time": "2023-08-26T06:08:40.619714",
     "exception": false,
     "start_time": "2023-08-26T06:08:40.600721",
     "status": "completed"
    },
    "tags": []
   },
   "source": [
    "## Data Visualization"
   ]
  },
  {
   "cell_type": "code",
   "execution_count": 16,
   "id": "fa0546fa",
   "metadata": {
    "execution": {
     "iopub.execute_input": "2023-08-26T06:08:40.659098Z",
     "iopub.status.busy": "2023-08-26T06:08:40.658307Z",
     "iopub.status.idle": "2023-08-26T06:08:40.883883Z",
     "shell.execute_reply": "2023-08-26T06:08:40.882662Z"
    },
    "papermill": {
     "duration": 0.248789,
     "end_time": "2023-08-26T06:08:40.886892",
     "exception": false,
     "start_time": "2023-08-26T06:08:40.638103",
     "status": "completed"
    },
    "tags": []
   },
   "outputs": [
    {
     "data": {
      "text/html": [
       "<div>\n",
       "<style scoped>\n",
       "    .dataframe tbody tr th:only-of-type {\n",
       "        vertical-align: middle;\n",
       "    }\n",
       "\n",
       "    .dataframe tbody tr th {\n",
       "        vertical-align: top;\n",
       "    }\n",
       "\n",
       "    .dataframe thead th {\n",
       "        text-align: right;\n",
       "    }\n",
       "</style>\n",
       "<table border=\"1\" class=\"dataframe\">\n",
       "  <thead>\n",
       "    <tr style=\"text-align: right;\">\n",
       "      <th></th>\n",
       "      <th>Age</th>\n",
       "      <th>FrequentFlyer</th>\n",
       "      <th>AnnualIncomeClass</th>\n",
       "      <th>ServicesOpted</th>\n",
       "      <th>AccountSyncedToSocialMedia</th>\n",
       "      <th>BookedHotelOrNot</th>\n",
       "      <th>Target</th>\n",
       "    </tr>\n",
       "  </thead>\n",
       "  <tbody>\n",
       "    <tr>\n",
       "      <th>0</th>\n",
       "      <td>34</td>\n",
       "      <td>0</td>\n",
       "      <td>2</td>\n",
       "      <td>6</td>\n",
       "      <td>0</td>\n",
       "      <td>1</td>\n",
       "      <td>0</td>\n",
       "    </tr>\n",
       "    <tr>\n",
       "      <th>1</th>\n",
       "      <td>34</td>\n",
       "      <td>2</td>\n",
       "      <td>1</td>\n",
       "      <td>5</td>\n",
       "      <td>1</td>\n",
       "      <td>0</td>\n",
       "      <td>1</td>\n",
       "    </tr>\n",
       "    <tr>\n",
       "      <th>2</th>\n",
       "      <td>37</td>\n",
       "      <td>0</td>\n",
       "      <td>2</td>\n",
       "      <td>3</td>\n",
       "      <td>1</td>\n",
       "      <td>0</td>\n",
       "      <td>0</td>\n",
       "    </tr>\n",
       "    <tr>\n",
       "      <th>3</th>\n",
       "      <td>30</td>\n",
       "      <td>0</td>\n",
       "      <td>2</td>\n",
       "      <td>2</td>\n",
       "      <td>0</td>\n",
       "      <td>0</td>\n",
       "      <td>0</td>\n",
       "    </tr>\n",
       "    <tr>\n",
       "      <th>4</th>\n",
       "      <td>30</td>\n",
       "      <td>0</td>\n",
       "      <td>1</td>\n",
       "      <td>1</td>\n",
       "      <td>0</td>\n",
       "      <td>0</td>\n",
       "      <td>0</td>\n",
       "    </tr>\n",
       "  </tbody>\n",
       "</table>\n",
       "</div>"
      ],
      "text/plain": [
       "   Age  FrequentFlyer  AnnualIncomeClass  ServicesOpted  \\\n",
       "0   34              0                  2              6   \n",
       "1   34              2                  1              5   \n",
       "2   37              0                  2              3   \n",
       "3   30              0                  2              2   \n",
       "4   30              0                  1              1   \n",
       "\n",
       "   AccountSyncedToSocialMedia  BookedHotelOrNot  Target  \n",
       "0                           0                 1       0  \n",
       "1                           1                 0       1  \n",
       "2                           1                 0       0  \n",
       "3                           0                 0       0  \n",
       "4                           0                 0       0  "
      ]
     },
     "execution_count": 16,
     "metadata": {},
     "output_type": "execute_result"
    }
   ],
   "source": [
    "from sklearn.preprocessing import LabelEncoder\n",
    "number = LabelEncoder()\n",
    "features = ['FrequentFlyer','AnnualIncomeClass','AccountSyncedToSocialMedia','BookedHotelOrNot']\n",
    "for f in features:\n",
    "    Tour_dataset[f] = number.fit_transform(Tour_dataset[f])\n",
    "Tour_dataset.head()"
   ]
  },
  {
   "cell_type": "markdown",
   "id": "1198ebc9",
   "metadata": {
    "papermill": {
     "duration": 0.018407,
     "end_time": "2023-08-26T06:08:40.924065",
     "exception": false,
     "start_time": "2023-08-26T06:08:40.905658",
     "status": "completed"
    },
    "tags": []
   },
   "source": [
    "# ***Visualizing Hotel Bookings***"
   ]
  },
  {
   "cell_type": "code",
   "execution_count": 20,
   "id": "5127a019",
   "metadata": {
    "execution": {
     "iopub.execute_input": "2023-08-26T06:08:40.963696Z",
     "iopub.status.busy": "2023-08-26T06:08:40.963235Z",
     "iopub.status.idle": "2023-08-26T06:08:41.266193Z",
     "shell.execute_reply": "2023-08-26T06:08:41.264986Z"
    },
    "papermill": {
     "duration": 0.325796,
     "end_time": "2023-08-26T06:08:41.268837",
     "exception": false,
     "start_time": "2023-08-26T06:08:40.943041",
     "status": "completed"
    },
    "tags": []
   },
   "outputs": [
    {
     "name": "stdout",
     "output_type": "stream",
     "text": [
      "BookedHotelOrNot\n",
      "0    0.603774\n",
      "1    0.396226\n",
      "Name: proportion, dtype: float64\n"
     ]
    },
    {
     "data": {
      "image/png": "[encoded data removed]",
      "text/plain": [
       "<Figure size 1200x600 with 1 Axes>"
      ]
     },
     "metadata": {},
     "output_type": "display_data"
    }
   ],
   "source": [
    "churn_perc = Tour_dataset['BookedHotelOrNot'].value_counts(normalize = 1)\n",
    "print(churn_perc)\n",
    "\n",
    "plt.figure(figsize=(12,6))\n",
    "plt.bar([\"Booked\",\"NotBooked\"], Tour_dataset['BookedHotelOrNot'].value_counts(normalize = 1), edgecolor = 'black', width = 0.8, color = ['skyblue', 'purple'])\n",
    "plt.title('How Hotel Bookings Affect Customer Churn',fontsize=18,fontweight='bold')\n",
    "plt.show()"
   ]
  },
  {
   "cell_type": "markdown",
   "id": "b49c5dba",
   "metadata": {
    "papermill": {
     "duration": 0.019138,
     "end_time": "2023-08-26T06:08:41.306811",
     "exception": false,
     "start_time": "2023-08-26T06:08:41.287673",
     "status": "completed"
    },
    "tags": []
   },
   "source": [
    "# ***Annual Income Visualization***"
   ]
  },
  {
   "cell_type": "code",
   "execution_count": 21,
   "id": "cf0f570b",
   "metadata": {
    "execution": {
     "iopub.execute_input": "2023-08-26T06:08:41.348359Z",
     "iopub.status.busy": "2023-08-26T06:08:41.347895Z",
     "iopub.status.idle": "2023-08-26T06:08:41.359412Z",
     "shell.execute_reply": "2023-08-26T06:08:41.357866Z"
    },
    "papermill": {
     "duration": 0.03545,
     "end_time": "2023-08-26T06:08:41.362421",
     "exception": false,
     "start_time": "2023-08-26T06:08:41.326971",
     "status": "completed"
    },
    "tags": []
   },
   "outputs": [
    {
     "data": {
      "text/plain": [
       "AnnualIncomeClass\n",
       "0    159\n",
       "1    386\n",
       "2    409\n",
       "dtype: int64"
      ]
     },
     "execution_count": 21,
     "metadata": {},
     "output_type": "execute_result"
    }
   ],
   "source": [
    "income = Tour_dataset.groupby(\"AnnualIncomeClass\")\n",
    "income = income.size()\n",
    "income"
   ]
  },
  {
   "cell_type": "code",
   "execution_count": 27,
   "id": "343f036e",
   "metadata": {
    "execution": {
     "iopub.execute_input": "2023-08-26T06:08:41.403952Z",
     "iopub.status.busy": "2023-08-26T06:08:41.403465Z",
     "iopub.status.idle": "2023-08-26T06:08:41.567277Z",
     "shell.execute_reply": "2023-08-26T06:08:41.565679Z"
    },
    "papermill": {
     "duration": 0.190907,
     "end_time": "2023-08-26T06:08:41.573384",
     "exception": false,
     "start_time": "2023-08-26T06:08:41.382477",
     "status": "completed"
    },
    "tags": []
   },
   "outputs": [
    {
     "data": {
      "image/png": "[encoded data removed]",
      "text/plain": [
       "<Figure size 640x480 with 1 Axes>"
      ]
     },
     "metadata": {},
     "output_type": "display_data"
    }
   ],
   "source": [
    "explode = (0.01, 0.01, 0.01)  # Explode all slices\n",
    "plt.pie(income.values, labels=(\"High Income\", \"Low Income\", \"Middle Income\"), autopct='%1.1f%%', radius=1.2, textprops={\"fontsize\": 16}, explode=explode)\n",
    "plt.title(\"How Income Impacts Customer Churn\", c=\"Black\",fontsize=18,fontweight='bold')\n",
    "plt.show()\n"
   ]
  },
  {
   "cell_type": "markdown",
   "id": "60b2dde7",
   "metadata": {
    "papermill": {
     "duration": 0.021198,
     "end_time": "2023-08-26T06:08:41.617844",
     "exception": false,
     "start_time": "2023-08-26T06:08:41.596646",
     "status": "completed"
    },
    "tags": []
   },
   "source": [
    "## Analytical Summary\n",
    "\n",
    "Among the total population, 60% of customers have made hotel reservations, while 39% have not. This indicates a substantial difference between the two groups.\n",
    "\n",
    "Interestingly, customers with the highest annual income have the lowest churn rate, at 40%, compared to the highest churn rates among those with low (42%) and middle (42%) incomes."
   ]
  },
  {
   "cell_type": "markdown",
   "id": "84638213",
   "metadata": {
    "papermill": {
     "duration": 0.019651,
     "end_time": "2023-08-26T06:08:41.657406",
     "exception": false,
     "start_time": "2023-08-26T06:08:41.637755",
     "status": "completed"
    },
    "tags": []
   },
   "source": [
    "## Insights\n",
    "\n",
    "- The highest customer churn is observed among those who have not made hotel reservations. This could be attributed to factors such as high hotel rates or long waiting lists for reservations. Understanding these reasons can help in optimizing the campaign to reduce waiting times.\n",
    "\n",
    "- Similarly, the highest churn rates are seen among customers with low and middle incomes. This insight can guide pricing strategies to offer competitive rates without compromising revenue, thus potentially reducing customer churn."
   ]
  }
 ],
 "metadata": {
  "kernelspec": {
   "display_name": "Python 3",
   "language": "python",
   "name": "python3"
  },
  "language_info": {
   "codemirror_mode": {
    "name": "ipython",
    "version": 3
   },
   "file_extension": ".py",
   "mimetype": "text/x-python",
   "name": "python",
   "nbconvert_exporter": "python",
   "pygments_lexer": "ipython3",
   "version": "3.11.4"
  },
  "papermill": {
   "default_parameters": {},
   "duration": 21.44637,
   "end_time": "2023-08-26T06:08:42.946103",
   "environment_variables": {},
   "exception": null,
   "input_path": "__notebook__.ipynb",
   "output_path": "__notebook__.ipynb",
   "parameters": {},
   "start_time": "2023-08-26T06:08:21.499733",
   "version": "2.4.0"
  }
 },
 "nbformat": 4,
 "nbformat_minor": 5
}
